{
 "cells": [
  {
   "cell_type": "markdown",
   "metadata": {},
   "source": [
    "# Analyzing Mobile App Data\n",
    "This project explores mobile app data from Google Play and the App Store.\n",
    "The goal is to help developers understand what type of apps are likely to attract more users on both platforms.\n",
    "\n",
    "## Setting up and exploring data"
   ]
  },
  {
   "cell_type": "code",
   "execution_count": 15,
   "metadata": {},
   "outputs": [],
   "source": [
    "# FUNCTIONS FOR ACCESSING/VIEWING DATA\n",
    "\n",
    "# function to open datasets\n",
    "def open_dataset(file_name, header=True):        \n",
    "    opened_file = open(file_name)\n",
    "    from csv import reader\n",
    "    read_file = reader(opened_file)\n",
    "    data = list(read_file)\n",
    "    \n",
    "    if header:\n",
    "        return data[0], data[1:]\n",
    "    \n",
    "    return data\n",
    "\n",
    "\n",
    "# function to explore datasets\n",
    "def explore_data(dataset, start, end, rows_and_columns=False):\n",
    "    dataset_slice = dataset[start:end]    \n",
    "    for row in dataset_slice:\n",
    "        print(row)\n",
    "        print('\\n') # adds a new (empty) line after each row\n",
    "\n",
    "    if rows_and_columns:\n",
    "        print('Number of rows:', len(dataset))\n",
    "        print('Number of columns:', len(dataset[0]))"
   ]
  },
  {
   "cell_type": "code",
   "execution_count": 16,
   "metadata": {},
   "outputs": [
    {
     "name": "stdout",
     "output_type": "stream",
     "text": [
      "['', 'id', 'track_name', 'size_bytes', 'currency', 'price', 'rating_count_tot', 'rating_count_ver', 'user_rating', 'user_rating_ver', 'ver', 'cont_rating', 'prime_genre', 'sup_devices.num', 'ipadSc_urls.num', 'lang.num', 'vpp_lic']\n",
      "\n",
      "\n",
      "['1', '281656475', 'PAC-MAN Premium', '100788224', 'USD', '3.99', '21292', '26', '4', '4.5', '6.3.5', '4+', 'Games', '38', '5', '10', '1']\n",
      "\n",
      "\n",
      "['2', '281796108', 'Evernote - stay organized', '158578688', 'USD', '0', '161065', '26', '4', '3.5', '8.2.2', '4+', 'Productivity', '37', '5', '23', '1']\n",
      "\n",
      "\n",
      "['3', '281940292', 'WeatherBug - Local Weather, Radar, Maps, Alerts', '100524032', 'USD', '0', '188583', '2822', '3.5', '4.5', '5.0.0', '4+', 'Weather', '37', '5', '3', '1']\n",
      "\n",
      "\n",
      "['App', 'Category', 'Rating', 'Reviews', 'Size', 'Installs', 'Type', 'Price', 'Content Rating', 'Genres', 'Last Updated', 'Current Ver', 'Android Ver']\n",
      "\n",
      "\n",
      "['Photo Editor & Candy Camera & Grid & ScrapBook', 'ART_AND_DESIGN', '4.1', '159', '19M', '10,000+', 'Free', '0', 'Everyone', 'Art & Design', 'January 7, 2018', '1.0.0', '4.0.3 and up']\n",
      "\n",
      "\n",
      "['Coloring book moana', 'ART_AND_DESIGN', '3.9', '967', '14M', '500,000+', 'Free', '0', 'Everyone', 'Art & Design;Pretend Play', 'January 15, 2018', '2.0.0', '4.0.3 and up']\n",
      "\n",
      "\n",
      "['U Launcher Lite – FREE Live Cool Themes, Hide Apps', 'ART_AND_DESIGN', '4.7', '87510', '8.7M', '5,000,000+', 'Free', '0', 'Everyone', 'Art & Design', 'August 1, 2018', '1.2.4', '4.0.3 and up']\n",
      "\n",
      "\n",
      "Number of rows: 7197\n",
      "Number of columns: 17\n",
      "Number of rows: 10841\n",
      "Number of columns: 13\n"
     ]
    }
   ],
   "source": [
    "# EXPLORE DATA\n",
    "\n",
    "apple_header, apple_data = open_dataset('data_raw/AppleStore.csv')\n",
    "ggle_header, ggle_data = open_dataset('data_raw/googleplaystore.csv')\n",
    "\n",
    "print(apple_header)\n",
    "print('\\n')\n",
    "explore_data(apple_data, 0, 3)\n",
    "\n",
    "print(ggle_header)\n",
    "print('\\n')\n",
    "explore_data(ggle_data, 0, 3)\n",
    "\n",
    "explore_data(apple_data, 1, 1, True)\n",
    "explore_data(ggle_data, 1, 1, True)"
   ]
  },
  {
   "cell_type": "markdown",
   "metadata": {},
   "source": [
    "## Data cleaning\n",
    "### Removing entries with missing information"
   ]
  },
  {
   "cell_type": "code",
   "execution_count": 17,
   "metadata": {},
   "outputs": [
    {
     "name": "stdout",
     "output_type": "stream",
     "text": [
      "['Life Made WI-Fi Touchscreen Photo Frame', '1.9', '19', '3.0M', '1,000+', 'Free', '0', 'Everyone', '', 'February 11, 2018', '1.0.19', '4.0 and up']\n",
      "['osmino Wi-Fi: free WiFi', 'TOOLS', '4.2', '134203', '4.1M', '10,000,000+', 'Free', '0', 'Everyone', 'Tools', 'August 7, 2018', '6.06.14', '4.4 and up']\n"
     ]
    }
   ],
   "source": [
    "# DATA CLEANING\n",
    "\n",
    "print(ggle_data[10472])\n",
    "del ggle_data[10472] # removed entry with missing category       \n",
    "print(ggle_data[10472])\n"
   ]
  },
  {
   "cell_type": "markdown",
   "metadata": {},
   "source": [
    "### Removing duplicate entries\n",
    "The Google Play dataset has duplicate entries for some apps, so we need to remove these.\n",
    "Let's examine some of the duplicates:"
   ]
  },
  {
   "cell_type": "code",
   "execution_count": 18,
   "metadata": {},
   "outputs": [
    {
     "name": "stdout",
     "output_type": "stream",
     "text": [
      "Number of duplicate apps:  1181\n",
      "\n",
      "\n",
      "Examples of apps with duplicates:  ['Quick PDF Scanner + OCR FREE', 'Box', 'Google My Business', 'ZOOM Cloud Meetings', 'join.me - Simple Meetings', 'Box', 'Zenefits', 'Google Ads', 'Google My Business', 'Slack']\n"
     ]
    }
   ],
   "source": [
    "# record which apps have duplicate entries\n",
    "dup_apps = []\n",
    "unique_apps = []\n",
    "\n",
    "for app in ggle_data:\n",
    "    name = app[0]\n",
    "    if name in unique_apps:\n",
    "        dup_apps.append(name)\n",
    "    else:\n",
    "        unique_apps.append(name)\n",
    "        \n",
    "print('Number of duplicate apps: ', len(dup_apps))\n",
    "print('\\n')\n",
    "print('Examples of apps with duplicates: ', dup_apps[:10])"
   ]
  },
  {
   "cell_type": "markdown",
   "metadata": {},
   "source": [
    "In removing duplicate entries, we want to keep the most recent entry. To achieve this, we'll keep the entry with the highest number of reviews for each app since this entry should be the most recent.\n",
    "\n",
    "First we'll create a dictionary to **store the highest number of reviews for each app.**"
   ]
  },
  {
   "cell_type": "code",
   "execution_count": 19,
   "metadata": {},
   "outputs": [],
   "source": [
    "# record highest number of reviews for each app\n",
    "reviews_max = {}\n",
    "\n",
    "for app in ggle_data:\n",
    "    name = app[0]\n",
    "    n_reviews = float(app[3])\n",
    "    \n",
    "    # check if app name is already keyed, and if the current number of\n",
    "        # reviews is greater than the recorded number of reviews\n",
    "    if name in reviews_max and reviews_max[name] < n_reviews:\n",
    "        reviews_max[name] = n_reviews\n",
    "    \n",
    "    # if the app name has not been keyed yet, then add it\n",
    "    elif name not in reviews_max:\n",
    "        reviews_max[name] = n_reviews"
   ]
  },
  {
   "cell_type": "markdown",
   "metadata": {},
   "source": [
    "Now that we know the number of reviews for each entry that we want to keep, we can **select the entries with the corresponding number of reviews.**\n",
    "\n",
    "To do this, we'll cycle through the Google dataset and see if the entry has the max number of reviews for that app. If it does, then we'll **add it to our cleaned dataset, and then record that we've added it**."
   ]
  },
  {
   "cell_type": "code",
   "execution_count": 20,
   "metadata": {},
   "outputs": [
    {
     "name": "stdout",
     "output_type": "stream",
     "text": [
      "Cleaned Google dataset should have 9,659 rows.\n",
      "\n",
      "Actual number of rows:  9659\n"
     ]
    }
   ],
   "source": [
    "# create dataset with no duplicate app entries\n",
    "\n",
    "android_clean = [] # stores cleaned dataset\n",
    "already_added = [] # stores names of apps in cleaned dataset\n",
    "\n",
    "for app in ggle_data:\n",
    "    name = app[0]\n",
    "    n_reviews = float(app[3])\n",
    "    \n",
    "    # check if entry has max number of reviews and has not been recorded\n",
    "        # in clean dataset\n",
    "    if n_reviews == reviews_max[name] and name not in already_added:\n",
    "        android_clean.append(app)\n",
    "        already_added.append(name)\n",
    "        \n",
    "\n",
    "print('Cleaned Google dataset should have 9,659 rows.')\n",
    "print('\\nActual number of rows: ', len(android_clean))"
   ]
  },
  {
   "cell_type": "markdown",
   "metadata": {},
   "source": [
    "### Removing non-English app\n",
    "Our company's audience is English-speaking, so there's no need to look at non-English apps.\n",
    "\n",
    "We'll exclude these apps from the dataset by checking if the app name has any characters that are not commonly used in English text. The commonly used English characters have ASCII values less than or equal to 127. If the app name does not contain characters with ASCII values greater than 127, then it likely is an English-speaking app.\n",
    "\n",
    "However, some English app names have emojis or trademark symbols, which have ASCII values greater than 127. If we exclude these app, then we will lose a lot of valuable data. Therefore, our code should check if the app name has **more than 3 characters whose ASCII value is greater than 127.**"
   ]
  },
  {
   "cell_type": "code",
   "execution_count": 21,
   "metadata": {},
   "outputs": [
    {
     "name": "stdout",
     "output_type": "stream",
     "text": [
      "True\n",
      "True\n",
      "False\n"
     ]
    }
   ],
   "source": [
    "# Function to check if string is in English\n",
    "\n",
    "def isEnglish(string):\n",
    "    \n",
    "    # count number of non-English characters\n",
    "    n_nonEnglish = 0\n",
    "    \n",
    "    for char in string:\n",
    "        if ord(char) > 127: # if ASCII value is greater than 127\n",
    "            n_nonEnglish += 1 # then increment non-English char count\n",
    "        \n",
    "    if n_nonEnglish > 3:\n",
    "        return False # if more than 3 non-Eng chars, then string is non-English\n",
    "    \n",
    "    return True\n",
    "\n",
    "print(isEnglish('Docs To Go™ Free Office Suite'))\n",
    "print(isEnglish('Instachat 😜'))\n",
    "print(isEnglish('爱奇艺PPS -《欢乐颂2》电视剧热播'))\n"
   ]
  },
  {
   "cell_type": "markdown",
   "metadata": {},
   "source": [
    "As demonstrated, the function above achieves the desired effect of filtering out English and non-English app names based on the selected criterion.\n",
    "\n",
    "Now we'll remove the non-English apps from our dataset."
   ]
  },
  {
   "cell_type": "code",
   "execution_count": 22,
   "metadata": {},
   "outputs": [
    {
     "name": "stdout",
     "output_type": "stream",
     "text": [
      "\n",
      "Number of English apps:  9614\n"
     ]
    }
   ],
   "source": [
    "# new list to store only English apps\n",
    "\n",
    "android_english = []\n",
    "\n",
    "# for each app, if name is English, add to new dataset\n",
    "for app in android_clean:\n",
    "    name = app[0]\n",
    "    \n",
    "    if isEnglish(name):\n",
    "        android_english.append(app)\n",
    "        \n",
    "print('\\nNumber of English apps: ', len(android_english))"
   ]
  },
  {
   "cell_type": "markdown",
   "metadata": {},
   "source": [
    "### Isolating free English apps\n",
    "Now that we've removed duplicate entries, removed entries with missing data, and removed non-English apps, we want to isolate the free apps.\n",
    "\n",
    "We'll do this by checking if the price of the app is equal to 0."
   ]
  },
  {
   "cell_type": "code",
   "execution_count": 23,
   "metadata": {},
   "outputs": [
    {
     "name": "stdout",
     "output_type": "stream",
     "text": [
      "\n",
      "Number of free English apps:  8864\n"
     ]
    }
   ],
   "source": [
    "# for each English app, if price is 0, add to new dataset\n",
    "\n",
    "android_freeEng = []\n",
    "\n",
    "for app in android_english:\n",
    "    price = app[7]\n",
    "    \n",
    "    if price == '0':\n",
    "        android_freeEng.append(app)\n",
    "        \n",
    "print('\\nNumber of free English apps: ', len(android_freeEng))"
   ]
  },
  {
   "cell_type": "markdown",
   "metadata": {},
   "source": [
    "## Analysis\n",
    "Now that we have a clean dataset, we can begin our analysis to help developers understand what type of apps are likely to attract more users on both platforms.\n",
    "\n",
    "Our validation strategy for an app has three steps:\n",
    "1. Build a minimal Android version of the app, and add it to Google Play.\n",
    "2. If the app has a good response from users, we develop it further.\n",
    "3. If the app is profitable after six months, we build an iOS version of the app and add it to the App Store.\n",
    "\n",
    "To do this analysis, let's start by looking at the most common app genres for each platform by creating frequency tables for the genres.\n",
    "\n",
    "### Most common app genres"
   ]
  },
  {
   "cell_type": "code",
   "execution_count": 24,
   "metadata": {},
   "outputs": [
    {
     "name": "stdout",
     "output_type": "stream",
     "text": [
      "FAMILY: 18.907942238266926\n",
      "GAME: 9.724729241877363\n",
      "TOOLS: 8.46119133574016\n",
      "BUSINESS: 4.591606498194979\n",
      "LIFESTYLE: 3.90342960288811\n",
      "PRODUCTIVITY: 3.8921480144404565\n",
      "FINANCE: 3.7003610108303455\n",
      "MEDICAL: 3.5311371841155417\n",
      "SPORTS: 3.3957581227436986\n",
      "PERSONALIZATION: 3.3167870036101235\n",
      "COMMUNICATION: 3.2378158844765483\n",
      "HEALTH_AND_FITNESS: 3.079873646209398\n",
      "PHOTOGRAPHY: 2.944494584837555\n",
      "NEWS_AND_MAGAZINES: 2.7978339350180583\n",
      "SOCIAL: 2.6624548736462152\n",
      "TRAVEL_AND_LOCAL: 2.335288808664261\n",
      "SHOPPING: 2.2450361010830324\n",
      "BOOKS_AND_REFERENCE: 2.14350180505415\n",
      "DATING: 1.861462093862813\n",
      "VIDEO_PLAYERS: 1.7937725631768928\n",
      "MAPS_AND_NAVIGATION: 1.398916967509025\n",
      "FOOD_AND_DRINK: 1.2409747292418778\n",
      "EDUCATION: 1.1620036101083042\n",
      "ENTERTAINMENT: 0.9589350180505433\n",
      "LIBRARIES_AND_DEMO: 0.9363718411552363\n",
      "AUTO_AND_VEHICLES: 0.9250902527075828\n",
      "HOUSE_AND_HOME: 0.8235559566787015\n",
      "WEATHER: 0.8009927797833946\n",
      "EVENTS: 0.7107400722021667\n",
      "PARENTING: 0.6543321299638993\n",
      "ART_AND_DESIGN: 0.6430505415162459\n",
      "COMICS: 0.6204873646209389\n",
      "BEAUTY: 0.5979241877256319\n",
      "\n",
      "\n",
      "Tools: 8.449909747292507\n",
      "Entertainment: 6.069494584837599\n",
      "Education: 5.34747292418777\n",
      "Business: 4.591606498194979\n",
      "Productivity: 3.8921480144404565\n",
      "Lifestyle: 3.8921480144404565\n",
      "Finance: 3.7003610108303455\n",
      "Medical: 3.5311371841155417\n",
      "Sports: 3.46344765342962\n",
      "Personalization: 3.3167870036101235\n",
      "Communication: 3.2378158844765483\n",
      "Action: 3.1024368231047053\n",
      "Health & Fitness: 3.079873646209398\n",
      "Photography: 2.944494584837555\n",
      "News & Magazines: 2.7978339350180583\n",
      "Social: 2.6624548736462152\n",
      "Travel & Local: 2.3240072202166075\n",
      "Shopping: 2.2450361010830324\n",
      "Books & Reference: 2.14350180505415\n",
      "Simulation: 2.041967509025268\n",
      "Dating: 1.861462093862813\n",
      "Arcade: 1.8501805054151597\n",
      "Video Players & Editors: 1.771209386281586\n",
      "Casual: 1.7599277978339327\n",
      "Maps & Navigation: 1.398916967509025\n",
      "Food & Drink: 1.2409747292418778\n",
      "Puzzle: 1.1281588447653441\n",
      "Racing: 0.9927797833935037\n",
      "Role Playing: 0.9363718411552363\n",
      "Libraries & Demo: 0.9363718411552363\n",
      "Auto & Vehicles: 0.9250902527075828\n",
      "Strategy: 0.9138086642599293\n",
      "House & Home: 0.8235559566787015\n",
      "Weather: 0.8009927797833946\n",
      "Events: 0.7107400722021667\n",
      "Adventure: 0.6768953068592063\n",
      "Comics: 0.6092057761732854\n",
      "Beauty: 0.5979241877256319\n",
      "Art & Design: 0.5979241877256319\n",
      "Parenting: 0.4963898916967507\n",
      "Card: 0.451263537906137\n",
      "Casino: 0.42870036101083014\n",
      "Trivia: 0.4174187725631767\n",
      "Educational;Education: 0.3948555956678699\n",
      "Board: 0.38357400722021645\n",
      "Educational: 0.372292418772563\n",
      "Education;Education: 0.33844765342960276\n",
      "Word: 0.2594765342960288\n",
      "Casual;Pretend Play: 0.23691335740072195\n",
      "Music: 0.20306859205776168\n",
      "Racing;Action & Adventure: 0.1692238267148014\n",
      "Puzzle;Brain Games: 0.1692238267148014\n",
      "Entertainment;Music & Video: 0.1692238267148014\n",
      "Casual;Brain Games: 0.13537906137184114\n",
      "Casual;Action & Adventure: 0.13537906137184114\n",
      "Arcade;Action & Adventure: 0.12409747292418771\n",
      "Action;Action & Adventure: 0.10153429602888087\n",
      "Educational;Pretend Play: 0.09025270758122744\n",
      "Simulation;Action & Adventure: 0.07897111913357402\n",
      "Parenting;Education: 0.07897111913357402\n",
      "Entertainment;Brain Games: 0.07897111913357402\n",
      "Board;Brain Games: 0.07897111913357402\n",
      "Parenting;Music & Video: 0.06768953068592058\n",
      "Educational;Brain Games: 0.06768953068592058\n",
      "Casual;Creativity: 0.06768953068592058\n",
      "Art & Design;Creativity: 0.06768953068592058\n",
      "Education;Pretend Play: 0.05640794223826715\n",
      "Role Playing;Pretend Play: 0.04512635379061372\n",
      "Education;Creativity: 0.04512635379061372\n",
      "Role Playing;Action & Adventure: 0.03384476534296029\n",
      "Puzzle;Action & Adventure: 0.03384476534296029\n",
      "Entertainment;Creativity: 0.03384476534296029\n",
      "Entertainment;Action & Adventure: 0.03384476534296029\n",
      "Educational;Creativity: 0.03384476534296029\n",
      "Educational;Action & Adventure: 0.03384476534296029\n",
      "Education;Music & Video: 0.03384476534296029\n",
      "Education;Brain Games: 0.03384476534296029\n",
      "Education;Action & Adventure: 0.03384476534296029\n",
      "Adventure;Action & Adventure: 0.03384476534296029\n",
      "Video Players & Editors;Music & Video: 0.02256317689530686\n",
      "Sports;Action & Adventure: 0.02256317689530686\n",
      "Simulation;Pretend Play: 0.02256317689530686\n",
      "Puzzle;Creativity: 0.02256317689530686\n",
      "Music;Music & Video: 0.02256317689530686\n",
      "Entertainment;Pretend Play: 0.02256317689530686\n",
      "Casual;Education: 0.02256317689530686\n",
      "Board;Action & Adventure: 0.02256317689530686\n",
      "Video Players & Editors;Creativity: 0.01128158844765343\n",
      "Trivia;Education: 0.01128158844765343\n",
      "Travel & Local;Action & Adventure: 0.01128158844765343\n",
      "Tools;Education: 0.01128158844765343\n",
      "Strategy;Education: 0.01128158844765343\n",
      "Strategy;Creativity: 0.01128158844765343\n",
      "Strategy;Action & Adventure: 0.01128158844765343\n",
      "Simulation;Education: 0.01128158844765343\n",
      "Role Playing;Brain Games: 0.01128158844765343\n",
      "Racing;Pretend Play: 0.01128158844765343\n",
      "Puzzle;Education: 0.01128158844765343\n",
      "Parenting;Brain Games: 0.01128158844765343\n",
      "Music & Audio;Music & Video: 0.01128158844765343\n",
      "Lifestyle;Pretend Play: 0.01128158844765343\n",
      "Lifestyle;Education: 0.01128158844765343\n",
      "Health & Fitness;Education: 0.01128158844765343\n",
      "Health & Fitness;Action & Adventure: 0.01128158844765343\n",
      "Entertainment;Education: 0.01128158844765343\n",
      "Communication;Creativity: 0.01128158844765343\n",
      "Comics;Creativity: 0.01128158844765343\n",
      "Casual;Music & Video: 0.01128158844765343\n",
      "Card;Action & Adventure: 0.01128158844765343\n",
      "Books & Reference;Education: 0.01128158844765343\n",
      "Art & Design;Pretend Play: 0.01128158844765343\n",
      "Art & Design;Action & Adventure: 0.01128158844765343\n",
      "Arcade;Pretend Play: 0.01128158844765343\n",
      "Adventure;Education: 0.01128158844765343\n",
      "\n",
      "\n",
      "Games: 53.661247742115926\n",
      "Entertainment: 7.433652910935183\n",
      "Education: 6.294289287203045\n",
      "Photo & Video: 4.849242740030578\n",
      "Utilities: 3.4458802278727196\n",
      "Health & Fitness: 2.5010421008753676\n",
      "Productivity: 2.473252744198975\n",
      "Social Networking: 2.320411282478815\n",
      "Lifestyle: 2.000833680700299\n",
      "Music: 1.9174656106711196\n",
      "Shopping: 1.6951507572599744\n",
      "Sports: 1.5839933305544018\n",
      "Book: 1.5562039738780087\n",
      "Finance: 1.445046547172436\n",
      "Travel: 1.1254689453939148\n",
      "News: 1.0421008753647354\n",
      "Weather: 1.0004168403501457\n",
      "Reference: 0.8892594136445738\n",
      "Food & Drink: 0.8753647353063774\n",
      "Business: 0.7919966652771986\n",
      "Navigation: 0.6391552035570375\n",
      "Medical: 0.31957760177851874\n",
      "Catalogs: 0.13894678338196467\n"
     ]
    }
   ],
   "source": [
    "# function to generate frequency tables for any dataset\n",
    "def freq_table(dataset, idx):\n",
    "    ft = {}\n",
    "    num = len(dataset)\n",
    "    \n",
    "    # for each row in dataset, if element in selected column is already\n",
    "        # in the freq table, then increment the percentage in freq table\n",
    "        # if element not in freq table, then record the first instance\n",
    "    for row in dataset:\n",
    "        value = row[idx]\n",
    "        \n",
    "        if value in ft:\n",
    "            ft[value] += 1 * 100 / num\n",
    "        else:\n",
    "            ft[value] = 1 * 100 / num\n",
    "            \n",
    "    return ft\n",
    "\n",
    "\n",
    "# function to display frequency tables\n",
    "def display_table(dataset, index):\n",
    "    table = freq_table(dataset, index)\n",
    "    table_display = []\n",
    "    for key in table:\n",
    "        key_val_as_tuple = (table[key], key)\n",
    "        table_display.append(key_val_as_tuple)\n",
    "\n",
    "    table_sorted = sorted(table_display, reverse = True)\n",
    "    for entry in table_sorted:\n",
    "        print(entry[1] + ':', entry[0])\n",
    "        \n",
    "        \n",
    "display_table(android_freeEng, 1) # ft for Category column in Google Play data\n",
    "print('\\n')\n",
    "display_table(android_freeEng, 9) # ft for Genres column in Google Play data\n",
    "print('\\n')\n",
    "display_table(apple_data, 12) # ft for prime_genre column in App Store data"
   ]
  },
  {
   "cell_type": "markdown",
   "metadata": {},
   "source": [
    "For free English speaking apps in the **App Store**, Games is by far the most common genre, covering over 50% of all the apps. (This doesn't necessarily imply that this genre has the largest number of users.)\n",
    "\n",
    "The most common genres in the **Google Play** store is a little less cut and dry. The genres are much more evenly distributed across the free English apps. Games are common, but Family apps are the most common, and Tools apps are comparable in number.\n",
    "\n",
    "Bascially, **apps designed for fun and entertainment dominate the App Store**, while **Google Play shows a more balanced landscape of both practical and fun apps.**\n",
    "\n",
    "### Most popular app genres\n",
    "The analysis in the previous section tells us how *common* each genre is, but we want to know how *popular* each genre is so that we can ***select an app genre that will be popular on both platforms***. To do this, we'll **calculate the average number of installs for each app genre.** (The Google Play dataset provides this information, but the App Store dataset does not. Instead, we can use the the total number of user ratings as a proxy for number of installs."
   ]
  },
  {
   "cell_type": "code",
   "execution_count": 25,
   "metadata": {},
   "outputs": [
    {
     "name": "stdout",
     "output_type": "stream",
     "text": [
      "App Store genres ranked by popularity: \n",
      "\n",
      "1. Social Networking: 45498.89820359281\n",
      "2. Music: 28842.021739130436\n",
      "3. Reference: 22410.84375\n",
      "4. Weather: 22181.027777777777\n",
      "5. Shopping: 18615.32786885246\n",
      "6. Photo & Video: 14352.280802292264\n",
      "7. Travel: 14129.444444444445\n",
      "8. Sports: 14026.929824561403\n",
      "9. Food & Drink: 13938.619047619048\n",
      "10. Games: 13691.996633868463\n",
      "11. News: 13015.066666666668\n",
      "12. Navigation: 11853.95652173913\n",
      "13. Finance: 11047.653846153846\n",
      "14. Health & Fitness: 9913.172222222222\n",
      "15. Productivity: 8051.3258426966295\n",
      "16. Entertainment: 7533.678504672897\n",
      "17. Utilities: 6863.822580645161\n",
      "18. Lifestyle: 6161.763888888889\n",
      "19. Book: 5125.4375\n",
      "20. Business: 4788.087719298245\n",
      "21. Education: 2239.2295805739514\n",
      "22. Catalogs: 1732.5\n",
      "23. Medical: 592.7826086956521\n"
     ]
    }
   ],
   "source": [
    "# proxy avg num installs by avg num of reviews for Apple dataset\n",
    "\n",
    "apple_genre_ft = freq_table(apple_data, 12) # get unique genres in Apple dataset\n",
    "apple_genre_avgReviews = {} # dictionary to store avg num reviews per app for each genre\n",
    "\n",
    "# for each unique genre\n",
    "for genre in apple_genre_ft:\n",
    "    genre_totReviews = 0 # create variable to store tot num reviews\n",
    "    n_genre = 0 # variable to store number of apps in genre\n",
    "\n",
    "    # for each app in the Apple dataset\n",
    "    for app in apple_data:\n",
    "        app_genre = app[12] # get genre for that app\n",
    "        \n",
    "        # check if the app genre is equal to the genre in question\n",
    "        if app_genre == genre:\n",
    "            n_genre += 1 # if yes, increment genre app count\n",
    "            n_reviews = float(app[6]) # get num reviews for that app\n",
    "            genre_totReviews += n_reviews # sum tot num genre reviews\n",
    "                \n",
    "    # calculate avg num reviews per app in genre\n",
    "    apple_genre_avgReviews[genre] = genre_totReviews / n_genre\n",
    "    #print(genre + ':', apple_genre_avgReviews[genre])\n",
    "    \n",
    "apple_genre_avgReviews_sorted = dict(sorted(apple_genre_avgReviews.items(), key=lambda x: x[1], reverse=True))\n",
    "print('App Store genres ranked by popularity: \\n')\n",
    "n = 0\n",
    "for genre in apple_genre_avgReviews_sorted:\n",
    "    n += 1\n",
    "    print(str(n) + '. ' + genre + ':', apple_genre_avgReviews_sorted[genre])\n",
    "            "
   ]
  },
  {
   "cell_type": "code",
   "execution_count": 26,
   "metadata": {},
   "outputs": [
    {
     "name": "stdout",
     "output_type": "stream",
     "text": [
      "Google Play genres ranked by popularity: \n",
      "\n",
      "1. COMMUNICATION: 38456119.167247385\n",
      "2. VIDEO_PLAYERS: 24727872.452830188\n",
      "3. SOCIAL: 23253652.127118643\n",
      "4. PHOTOGRAPHY: 17840110.40229885\n",
      "5. PRODUCTIVITY: 16787331.344927534\n",
      "6. GAME: 15588015.603248259\n",
      "7. TRAVEL_AND_LOCAL: 13984077.710144928\n",
      "8. ENTERTAINMENT: 11640705.88235294\n",
      "9. TOOLS: 10801391.298666667\n",
      "10. NEWS_AND_MAGAZINES: 9549178.467741935\n",
      "11. BOOKS_AND_REFERENCE: 8767811.894736841\n",
      "12. SHOPPING: 7036877.311557789\n",
      "13. PERSONALIZATION: 5201482.6122448975\n",
      "14. WEATHER: 5074486.197183099\n",
      "15. HEALTH_AND_FITNESS: 4188821.9853479853\n",
      "16. MAPS_AND_NAVIGATION: 4056941.7741935486\n",
      "17. FAMILY: 3695641.8198090694\n",
      "18. SPORTS: 3638640.1428571427\n",
      "19. ART_AND_DESIGN: 1986335.0877192982\n",
      "20. FOOD_AND_DRINK: 1924897.7363636363\n",
      "21. EDUCATION: 1833495.145631068\n",
      "22. BUSINESS: 1712290.1474201474\n",
      "23. LIFESTYLE: 1437816.2687861272\n",
      "24. FINANCE: 1387692.475609756\n",
      "25. HOUSE_AND_HOME: 1331540.5616438356\n",
      "26. DATING: 854028.8303030303\n",
      "27. COMICS: 817657.2727272727\n",
      "28. AUTO_AND_VEHICLES: 647317.8170731707\n",
      "29. LIBRARIES_AND_DEMO: 638503.734939759\n",
      "30. PARENTING: 542603.6206896552\n",
      "31. BEAUTY: 513151.88679245283\n",
      "32. EVENTS: 253542.22222222222\n",
      "33. MEDICAL: 120550.61980830671\n"
     ]
    }
   ],
   "source": [
    "# avg num of installs per app for Google Play dataset\n",
    "\n",
    "ggle_genre_ft = freq_table(android_freeEng, 1) # get unique genres in Google dataset\n",
    "ggle_genre_avgInstalls = {} # dictionary to store avg num reviews per app for each genre\n",
    "\n",
    "# for each unique genre\n",
    "for genre in ggle_genre_ft:\n",
    "    genre_totInstalls = 0 # create variable to store tot num installs\n",
    "    n_genre = 0 # variable to store number of apps in genre\n",
    "\n",
    "    # for each app in the Google Play dataset\n",
    "    for app in android_freeEng:\n",
    "        app_genre = app[1] # get genre for that app\n",
    "        \n",
    "        # check if the app genre is equal to the genre in question\n",
    "        if app_genre == genre:\n",
    "            n_genre += 1 # if yes, increment genre app count\n",
    "            s_installs = app[5]\n",
    "            n_installs = int(s_installs.replace(\",\", \"\").replace(\"+\", \"\")) # get num installs for that app\n",
    "            genre_totInstalls += n_installs # sum tot num genre installs\n",
    "                \n",
    "    # calculate avg num installs per app in genre\n",
    "    ggle_genre_avgInstalls[genre] = genre_totInstalls / n_genre\n",
    "\n",
    "\n",
    "ggle_genre_avgInstalls_sorted = dict(sorted(ggle_genre_avgInstalls.items(), key=lambda x: x[1], reverse=True))\n",
    "print('Google Play genres ranked by popularity: \\n')\n",
    "n = 0\n",
    "for genre in ggle_genre_avgInstalls_sorted:\n",
    "    n += 1\n",
    "    print(str(n) + '. ' + genre + ':', ggle_genre_avgInstalls_sorted[genre])\n",
    "            "
   ]
  },
  {
   "cell_type": "markdown",
   "metadata": {},
   "source": [
    "One issue with this data is that it's not very precise. The Google Play dataset gives us the number of installs rounded down to the nearest thousand. For example, it lists 10,000+ or 5,000,000+ installs rather than precise numbers. However, it is adequate for our analysis. We only need an idea of which genres will attrach the most users.\n",
    "\n",
    "### Comparison between genre popularity across platforms\n",
    "Now that we have the genres sorted by most popular, let's compare the top ten genres for each platform."
   ]
  },
  {
   "cell_type": "code",
   "execution_count": 27,
   "metadata": {},
   "outputs": [
    {
     "name": "stdout",
     "output_type": "stream",
     "text": [
      "           Top Ten Genres by Popularity\n",
      "Rank.  App Store            | Google Play\n",
      "-------------------------------------------------------\n",
      "1.     Social Networking    | COMMUNICATION\n",
      "2.     Music                | VIDEO_PLAYERS\n",
      "3.     Reference            | SOCIAL\n",
      "4.     Weather              | PHOTOGRAPHY\n",
      "5.     Shopping             | PRODUCTIVITY\n",
      "6.     Photo & Video        | GAME\n",
      "7.     Travel               | TRAVEL_AND_LOCAL\n",
      "8.     Sports               | ENTERTAINMENT\n",
      "9.     Food & Drink         | TOOLS\n",
      "10.     Games                | NEWS_AND_MAGAZINES\n"
     ]
    }
   ],
   "source": [
    "\n",
    "dict1 = {f\"A{i}\": i for i in range(1, 21)}\n",
    "dict2 = {f\"B{i}\": i for i in range(1, 21)}\n",
    "\n",
    "# Convert keys to lists\n",
    "keys1 = list(apple_genre_avgReviews_sorted.keys())\n",
    "keys2 = list(ggle_genre_avgInstalls_sorted.keys())\n",
    "\n",
    "print('           Top Ten Genres by Popularity')\n",
    "print(f\"{'Rank.':<6} {'App Store':<20} | {'Google Play'}\")\n",
    "print(\"-\" * 55)\n",
    "\n",
    "# Loop through first 10 only\n",
    "for i, (k1, k2) in enumerate(zip(keys1[:10], keys2[:10]), start=1):\n",
    "    print(f\"{i}.     {k1:<20} | {k2}\")\n"
   ]
  },
  {
   "cell_type": "markdown",
   "metadata": {},
   "source": [
    "## Discussion and Recommendation\n",
    "In this project, we cleaned and analyzed data for mobile apps from the Google Play and App Store platforms. Using the metric of average number of installs per app for each genre, we can draw some conclusions about the popularity of each genre for each market. \n",
    "\n",
    "Social networking apps are popular on both platforms, but the level of involvement in creating a social app is beyond the scope of our company.\n",
    "Music is popular for the App Store, but not much so on Google Play. Same for Reference, Weather, and Shopping apps.\n",
    "However, the Photo & Video and Travel genres from the App Store show promise. Video Players, Photography, and Travel and Local apps are all popular on Google Play.\n",
    "\n",
    "In light of this analysis, it is recommended to develop a **Travel app**, as this is likely to be profitable in both markets. It is popular on both platforms *and* is a less saturated genre than the others, as seen in the earlier analysis showing which genres contain the most apps.\n",
    "\n",
    "The app could show users upcoming events that are happening in their area. It could add features such as a map to show popular events within a radius from their current location, possibly even tying in travel/drive/flight durations. This would also easily enable revenue from ads as they could be seemlessly tied in for nearby food and drink."
   ]
  },
  {
   "cell_type": "code",
   "execution_count": 28,
   "metadata": {},
   "outputs": [
    {
     "name": "stdout",
     "output_type": "stream",
     "text": [
      "Saved Python script as mobile_app_analysis.py\n"
     ]
    }
   ],
   "source": [
    "import nbformat\n",
    "from nbconvert import PythonExporter\n",
    "\n",
    "# Replace with your notebook filename\n",
    "notebook_filename = 'mobile_app_analysis.ipynb'\n",
    "script_filename = 'mobile_app_analysis.py'\n",
    "\n",
    "# Load the notebook\n",
    "with open(notebook_filename, 'r', encoding='utf-8') as f:\n",
    "    nb = nbformat.read(f, as_version=4)\n",
    "\n",
    "# Convert to Python script\n",
    "exporter = PythonExporter()\n",
    "source, _ = exporter.from_notebook_node(nb)\n",
    "\n",
    "# Save to .py file\n",
    "with open(script_filename, 'w', encoding='utf-8') as f:\n",
    "    f.write(source)\n",
    "\n",
    "print(f\"Saved Python script as {script_filename}\")"
   ]
  }
 ],
 "metadata": {
  "kernelspec": {
   "display_name": "Python [conda env:base] *",
   "language": "python",
   "name": "conda-base-py"
  },
  "language_info": {
   "codemirror_mode": {
    "name": "ipython",
    "version": 3
   },
   "file_extension": ".py",
   "mimetype": "text/x-python",
   "name": "python",
   "nbconvert_exporter": "python",
   "pygments_lexer": "ipython3",
   "version": "3.13.5"
  }
 },
 "nbformat": 4,
 "nbformat_minor": 4
}
